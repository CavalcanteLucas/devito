{
 "cells": [
  {
   "cell_type": "markdown",
   "metadata": {},
   "source": [
    "In this tutorial we will show how to access and navigate the Iteration/Expression Tree (IET) rooted in an `Operator`.\n",
    "\n",
    "\n",
    "# Part I - Top Down\n",
    "\n",
    "Let's start with a fairly trivial example. First of all, we disable all performance-related optimizations, to maximize the simplicity of the created IET as well as the readability of the generated code."
   ]
  },
  {
   "cell_type": "code",
<<<<<<< HEAD
   "execution_count": 1,
=======
   "execution_count": 25,
>>>>>>> origin/master
   "metadata": {},
   "outputs": [],
   "source": [
    "from devito import configuration\n",
    "configuration['dle'] = 'noop'\n",
    "configuration['openmp'] = False"
   ]
  },
  {
   "cell_type": "markdown",
   "metadata": {},
   "source": [
    "Then, we create a `TimeFunction` with 3 points in each of the space `Dimension`s _x_ and _y_."
   ]
  },
  {
   "cell_type": "code",
   "execution_count": 2,
   "metadata": {},
   "outputs": [],
   "source": [
    "from devito import Grid, TimeFunction\n",
    "\n",
    "grid = Grid(shape=(3, 3))\n",
    "u = TimeFunction(name='u', grid=grid)"
   ]
  },
  {
   "cell_type": "markdown",
   "metadata": {},
   "source": [
    "We now create an `Operator` that increments by 1 all points in the computational domain."
   ]
  },
  {
   "cell_type": "code",
   "execution_count": 3,
   "metadata": {},
   "outputs": [],
   "source": [
    "from devito import Eq, Operator\n",
    "\n",
    "eq = Eq(u.forward, u+1)\n",
    "op = Operator(eq)"
   ]
  },
  {
   "cell_type": "markdown",
   "metadata": {},
   "source": [
    "An `Operator` is an IET node that can generate, JIT-compile, and run low-level code (e.g., C). Just like all other types of IET nodes, it's got a number of metadata attached. For example, we can query an `Operator` to retrieve the user-provided SymPy expressions."
=======
    "Here, we have just declared a two-dimensional Domain with three coordinates at each dimension ($x$ and $y$). Each coordinate of such a discrete space will be holding a $real~value$.\n",
    "\n",
    "As we can see, we can always access the values at each coordinate of the Domain. At this point, no modifications have been done to it yet. `u.data` give us a quick access over the values holded by each cell of such a Domain. `u.data[0]` holds the values in the grid at the \"current\" iteration time, given a time-step to be considered, whereas `u.data[1]` holds the values of `u` for the \"current+1\" time-step.\n",
    "\n",
    "We can now create an `Operator` that will perform modifications onto our Domain according to $differential~ equations$ through a computational stencil. \n",
    "It means that those differential equations will be translated into finite differences that will be used to update the values at each coordinate of the space.\n",
    "Such finite differences, or `expressions`, will be applied for specific ranges of `iterations` over the Domain. "
>>>>>>> origin/master
   ]
  },
  {
   "cell_type": "code",
   "execution_count": 4,
   "metadata": {},
   "outputs": [
    {
     "data": {
      "text/latex": [
       "$\\displaystyle u{\\left(t + dt,x,y \\right)} = u{\\left(t,x,y \\right)} + 1$"
      ],
      "text/plain": [
       "Eq(u(t + dt, x, y), u(t, x, y) + 1)"
      ]
     },
     "execution_count": 4,
     "metadata": {},
     "output_type": "execute_result"
    }
   ],
   "source": [
<<<<<<< HEAD
=======
    "eq = Eq(u.forward, u+1)\n",
    "op = Operator(eq)\n",
>>>>>>> origin/master
    "op.args['expressions']"
   ]
  },
  {
   "cell_type": "markdown",
   "metadata": {},
   "source": [
<<<<<<< HEAD
    "If we print `op`, we can see how the generated code looks like."
=======
    "For instance, the particular `Equation` object above allows us say that, at each time step, `1` will be added to every position of the domain.\n",
    "\n",
    "Let's take a look at the $kernel$ that will be used to compute how this equation alters the domain."
>>>>>>> origin/master
   ]
  },
  {
   "cell_type": "code",
   "execution_count": 5,
   "metadata": {},
   "outputs": [
    {
     "name": "stdout",
     "output_type": "stream",
     "text": [
      "#define _POSIX_C_SOURCE 200809L\n",
      "#include \"stdlib.h\"\n",
      "#include \"math.h\"\n",
      "#include \"sys/time.h\"\n",
      "\n",
<<<<<<< HEAD
      "struct dataobj\n",
      "{\n",
      "  void *restrict data;\n",
      "  int * size;\n",
      "  int * npsize;\n",
      "  int * dsize;\n",
      "  int * hsize;\n",
      "  int * hofs;\n",
      "  int * oofs;\n",
      "} ;\n",
      "\n",
      "struct profiler\n",
=======
      "struct Profiler\n",
>>>>>>> origin/master
      "{\n",
      "  double section0;\n",
      "} ;\n",
      "\n",
      "\n",
<<<<<<< HEAD
      "int Kernel(struct dataobj *restrict u_vec, const int time_M, const int time_m, struct profiler * timers, const int x_M, const int x_m, const int y_M, const int y_m)\n",
      "{\n",
      "  float (*restrict u)[u_vec->size[1]][u_vec->size[2]] __attribute__ ((aligned (64))) = (float (*)[u_vec->size[1]][u_vec->size[2]]) u_vec->data;\n",
      "  for (int time = time_m, t0 = (time)%(2), t1 = (time + 1)%(2); time <= time_M; time += 1, t0 = (time)%(2), t1 = (time + 1)%(2))\n",
      "  {\n",
      "    struct timeval start_section0, end_section0;\n",
      "    gettimeofday(&start_section0, NULL);\n",
      "    /* Begin section0 */\n",
      "    for (int x = x_m; x <= x_M; x += 1)\n",
      "    {\n",
      "      for (int y = y_m; y <= y_M; y += 1)\n",
      "      {\n",
      "        u[t1][x + 1][y + 1] = u[t0][x + 1][y + 1] + 1;\n",
      "      }\n",
      "    }\n",
      "    /* End section0 */\n",
      "    gettimeofday(&end_section0, NULL);\n",
      "    timers->section0 += (double)(end_section0.tv_sec-start_section0.tv_sec)+(double)(end_section0.tv_usec-start_section0.tv_usec)/1000000;\n",
      "  }\n",
      "  return 0;\n",
<<<<<<< HEAD
      "}\n",
      "\n"
=======
      "}\n"
>>>>>>> origin/master
     ]
    }
   ],
   "source": [
    "print(op)"
   ]
  },
  {
   "cell_type": "markdown",
   "metadata": {},
   "source": [
    "An `Operator` is the root of an IET that typically consists of several nested `Iteration`s and `Expression`s – two other fundamental IET node types. The user-provided SymPy equations are wrapped within `Expressions`. Loop nest embedding such expressions are constructed by suitably nesting `Iterations`.\n",
    "\n",
    "The Devito compiler constructs the IET from a collection of `Cluster`s, which represent a higher-level intermediate representation (not covered in this tutorial).\n",
    "\n",
    "The Devito compiler also analyses the IET to determine key computational properties, such as _sequential_, _parallel_, and _vectorizable_. These properties are attached directly to the relevant IET nodes.\n",
    "\n",
    "We can print the IET structure of an `Operator`, as well as the attached computational properties, using the utility function `pprint`."
=======
    "Note, however, that there is no need for recompilation. Just-in-time (JIT) compilation occurs only once, triggered by the first execution.\n",
    "\n",
    "In summary, an `Operator` takes as input an ordered sequence of `SymPy` equations and performs $indexification$, $substitution$ and $domain-alignment$ for building $lowered~equations$. The lowered equations are analyzed to collect information relevant for the `Operator` construction and execution, resulting in `Clusters` of ordered sequences of equations having the same $iteration~space$ (`ISpace`) and no dimension-carried anti-dependences among them. Those `Clusters` go through $symbolic-optimization$ by the Devito Symbolic Engine (DSE), which consists of a series of passes, ranging from standard commmon sub-expression elimination (CSE) to more advanced rewrite procedures applied to each `Cluster`. The result is a new ordered sequence of `Clusters` that are lowered to an Iteration/Expression Tree (IET).\n",
    "\n",
    "An IET is basically an *abstract syntax tree* in which `Iterations` and `Expressions` – two special node\n",
    "types – play the main actors. Equations are wrapped within `Expressions`. Loop nest embedding such expressions are constructed by suitably nesting `Iterations`. Each `Cluster` is eventually placed in its own loop (`Iteration`) nest, although some (outer) loops may be shared by multiple `Clusters`.\n",
    "\n",
    "In the IET construction pass, two main tasks are carried out: (i) cluster scheduling, namely the translation of a sequence of `Clusters` into an IET and (ii) the analysis of the constructed Iterations, to detect properties such as parallelism and vectorizability.\n",
    "\n",
    "The constructed IET is analyzed to determine `Iteration` properties such as $sequential$, $parallel$, and $vectorizable$. These properties are attached directly to the nodes in the IET. In particular, the IET is rebuilt with decorated `Iteration` nodes – there is no global state in any of the intermediate representations used in Devito.\n",
    "\n",
    "Here is another way to see the `Operator` defined above in a fashion closer to its IET structure."
>>>>>>> origin/master
   ]
  },
  {
   "cell_type": "code",
   "execution_count": 6,
   "metadata": {},
   "outputs": [
    {
     "name": "stdout",
     "output_type": "stream",
     "text": [
      "<Callable Kernel>\n",
<<<<<<< HEAD
      "  <List (0, 2, 0)>\n",
      "\n",
      "    <ArrayCast>\n",
      "    <List (0, 1, 0)>\n",
      "\n",
      "      <[affine,sequential,wrappable] Iteration time::time::(time_m, time_M, 1)::(0, 0)>\n",
      "        <TimedList (2, 1, 2)>\n",
      "          <C.Statement struct timeval start_section0, end_section0;>\n",
      "          <C.Statement gettimeofday(&start_section0, NULL);>\n",
      "          <Section (1)>\n",
      "\n",
      "            <[affine,parallel] Iteration x::x::(x_m, x_M, 1)::(0, 0)>\n",
      "              <[affine,parallel,vector-dim] Iteration y::y::(y_m, y_M, 1)::(0, 0)>\n",
      "                <ExpressionBundle (1)>\n",
      "\n",
      "                  <Expression u[t1, x + 1, y + 1] = u[t0, x + 1, y + 1] + 1>\n",
      "\n",
      "\n",
      "          <C.Statement gettimeofday(&end_section0, NULL);>\n",
      "          <C.Statement timers->section0 += (double)(end_section0.tv_sec-start_section0.tv_sec)+(double)(end_section0.tv_usec-start_section0.tv_usec)/1000000;>\n",
      "\n",
      "\n"
     ]
    }
   ],
   "source": [
    "from devito.tools import pprint\n",
    "pprint(op)"
   ]
  },
  {
   "cell_type": "markdown",
   "metadata": {},
   "source": [
<<<<<<< HEAD
    "In this example, `op` is represented as a `<Callable Kernel>`. Attached to it are metadata, such as `_headers` and `_includes`, as well as a `body`, which includes the children IET nodes. Here, the body is a `List` object.\n"
=======
    "The `op` object will be expressed as a `root` node of a tree. Walk through such a data structure allows us to regard specific parts of it.\n",
    "\n",
    "Thus, taking the above $kernel$ as example, `op` will be represented as a `<Callable Kernel>` that will be composed by `_headers`, `_includes` and a `body` (which is a `<List>`, in this example)."
>>>>>>> origin/master
   ]
  },
  {
   "cell_type": "code",
   "execution_count": 7,
   "metadata": {},
   "outputs": [
    {
     "data": {
      "text/plain": [
       "['#define _POSIX_C_SOURCE 200809L']"
      ]
     },
     "execution_count": 7,
     "metadata": {},
     "output_type": "execute_result"
    }
   ],
   "source": [
    "op._headers"
   ]
  },
  {
   "cell_type": "code",
   "execution_count": 8,
   "metadata": {},
   "outputs": [
    {
     "data": {
      "text/plain": [
       "['stdlib.h', 'math.h', 'sys/time.h']"
      ]
     },
     "execution_count": 8,
     "metadata": {},
     "output_type": "execute_result"
    }
   ],
   "source": [
    "op._includes"
   ]
  },
  {
   "cell_type": "code",
   "execution_count": 9,
   "metadata": {},
   "outputs": [
    {
     "data": {
      "text/plain": [
<<<<<<< HEAD
       "(<List (0, 2, 0)>,)"
      ]
     },
     "execution_count": 9,
     "metadata": {},
     "output_type": "execute_result"
    }
   ],
   "source": [
    "op.body"
   ]
  },
  {
   "cell_type": "markdown",
   "metadata": {},
   "source": [
<<<<<<< HEAD
    "We can inspect the `List` to observe that its immediate children are an `<ArrayCast>` and another `<List>`. We can then proceed with the IET traversal until we locate the user-provided `SymPy` equations."
=======
    "We can access such a `<List>` to observe that it is composed by an `<ArrayCast>`, a `<PointerCast>`, and another `<List>` object. We will discuss more about those data structures later on. For now, we can focus on goin down through the IET, in order to find the fully discretized expression that translates the input `SymPy` equation, according to Devito."
>>>>>>> origin/master
   ]
  },
  {
   "cell_type": "code",
   "execution_count": 10,
   "metadata": {},
   "outputs": [
    {
     "name": "stdout",
     "output_type": "stream",
     "text": [
<<<<<<< HEAD
      "float (*restrict u)[u_vec->size[1]][u_vec->size[2]] __attribute__ ((aligned (64))) = (float (*)[u_vec->size[1]][u_vec->size[2]]) u_vec->data;\n"
=======
      "float (*restrict u)[x_size + 1 + 1][y_size + 1 + 1] __attribute__((aligned(64))) = (float (*)[x_size + 1 + 1][y_size + 1 + 1]) u_vec;\n"
>>>>>>> origin/master
     ]
    }
   ],
   "source": [
<<<<<<< HEAD
    "print(op.body[0].body[0])  # Printing the ArrayCast"
=======
    "print(op.body[0].body[0])"
   ]
  },
  {
   "cell_type": "markdown",
   "metadata": {},
   "source": [
    "The second element of the `<List>`; a `<PointerCast>`:"
>>>>>>> origin/master
   ]
  },
  {
   "cell_type": "code",
   "execution_count": 11,
   "metadata": {},
   "outputs": [
    {
     "name": "stdout",
     "output_type": "stream",
     "text": [
      "for (int time = time_m, t0 = (time)%(2), t1 = (time + 1)%(2); time <= time_M; time += 1, t0 = (time)%(2), t1 = (time + 1)%(2))\n",
      "{\n",
      "  struct timeval start_section0, end_section0;\n",
      "  gettimeofday(&start_section0, NULL);\n",
      "  /* Begin section0 */\n",
      "  for (int x = x_m; x <= x_M; x += 1)\n",
      "  {\n",
      "    for (int y = y_m; y <= y_M; y += 1)\n",
      "    {\n",
      "      u[t1][x + 1][y + 1] = u[t0][x + 1][y + 1] + 1;\n",
      "    }\n",
      "  }\n",
      "  /* End section0 */\n",
      "  gettimeofday(&end_section0, NULL);\n",
      "  timers->section0 += (double)(end_section0.tv_sec-start_section0.tv_sec)+(double)(end_section0.tv_usec-start_section0.tv_usec)/1000000;\n",
      "}\n"
     ]
    }
   ],
   "source": [
    "print(op.body[0].body[1][0])  # Printing the List"
   ]
  },
  {
   "cell_type": "markdown",
   "metadata": {},
   "source": [
<<<<<<< HEAD
    "Below we access the `Iteration` representing the time loop."
=======
    "Within this second list, the first element is responsible for the profiling procedure, while the second part – which is also a list (with only one element) – contains the kernel's main loop."
>>>>>>> origin/master
   ]
  },
  {
   "cell_type": "code",
   "execution_count": 12,
   "metadata": {},
   "outputs": [
    {
     "data": {
      "text/plain": [
       "<WithProperties[affine,sequential,wrappable]::Iteration time[t0,t1]; (time_m, time_M, 1)>"
      ]
     },
     "execution_count": 12,
     "metadata": {},
     "output_type": "execute_result"
    }
   ],
   "source": [
    "t_iter = op.body[0].body[1][0].body[0]\n",
    "t_iter"
   ]
  },
  {
<<<<<<< HEAD
   "cell_type": "code",
   "execution_count": 13,
   "metadata": {},
   "outputs": [
    {
     "name": "stdout",
     "output_type": "stream",
     "text": [
      "for (int time = time_m, t0 = (time)%(2), t1 = (time + 1)%(2); time <= time_M; time += 1, t0 = (time)%(2), t1 = (time + 1)%(2))\n",
      "{\n",
      "  struct timeval start_section0, end_section0;\n",
      "  gettimeofday(&start_section0, NULL);\n",
      "  /* Begin section0 */\n",
      "  for (int x = x_m; x <= x_M; x += 1)\n",
      "  {\n",
      "    for (int y = y_m; y <= y_M; y += 1)\n",
      "    {\n",
      "      u[t1][x + 1][y + 1] = u[t0][x + 1][y + 1] + 1;\n",
      "    }\n",
      "  }\n",
      "  /* End section0 */\n",
      "  gettimeofday(&end_section0, NULL);\n",
      "  timers->section0 += (double)(end_section0.tv_sec-start_section0.tv_sec)+(double)(end_section0.tv_usec-start_section0.tv_usec)/1000000;\n",
      "}\n"
     ]
    }
   ],
   "source": [
    "print(t_iter)"
   ]
  },
  {
   "cell_type": "markdown",
   "metadata": {},
   "source": [
<<<<<<< HEAD
    "We can inspect the `Iteration` to discover what its iteration bounds are."
=======
    " We can further investigate its limits, for instance."
>>>>>>> origin/master
   ]
  },
  {
   "cell_type": "code",
   "execution_count": 14,
   "metadata": {},
   "outputs": [
    {
     "data": {
      "text/plain": [
       "(time_m, time_M, 1)"
      ]
     },
     "execution_count": 14,
     "metadata": {},
     "output_type": "execute_result"
    }
   ],
   "source": [
    "t_iter.limits"
   ]
  },
  {
   "cell_type": "markdown",
   "metadata": {},
   "source": [
<<<<<<< HEAD
    "And as we keep going down through the IET, we can eventually reach the `Expression` wrapping the user-provided SymPy equation."
=======
    "And as we keep going down through the IET, we reach the expression that is wrapped by the iterations' scope.  "
>>>>>>> origin/master
   ]
  },
  {
   "cell_type": "code",
   "execution_count": 15,
   "metadata": {
    "scrolled": false
   },
   "outputs": [
    {
<<<<<<< HEAD
     "data": {
      "text/plain": [
       "'<Expression u[t1, x + 1, y + 1] = u[t0, x + 1, y + 1] + 1>'"
      ]
     },
     "execution_count": 15,
     "metadata": {},
     "output_type": "execute_result"
    }
   ],
   "source": [
    "expr = t_iter.nodes[0].body[0].body[0].nodes[0].nodes[0].body[0]\n",
    "expr.view"
=======
     "name": "stdout",
     "output_type": "stream",
     "text": [
      "<Expression u[t1, x + 1, y + 1] = u[t0, x + 1, y + 1] + 1>\n"
     ]
    }
   ],
   "source": [
    "expr = op.body[0].body[2].body[1].body[0].children[0][0].body[0].body[0].children[0][0].children[0][0].children[0][0]\n",
    "print(expr.view)"
>>>>>>> origin/master
   ]
  },
  {
   "cell_type": "markdown",
   "metadata": {},
   "source": [
<<<<<<< HEAD
    "Of course, there are mechanisms in place to, for example, find all `Expression`s in a given IET. The Devito compiler has a number of IET visitors, among which `FindNodes`, usable to retrieve all nodes of a particular type. So we easily \n",
    "can get all `Expression`s within `op` as follows"
=======
    "The compiler provides several IET visitors. One of these, `FindNodes`, can be used to\n",
    "retrieve all nodes of a particular type within a given subtree. For example, we could retrieve\n",
    "all `Expression` objects within an `Operator`."
>>>>>>> origin/master
   ]
  },
  {
   "cell_type": "code",
   "execution_count": 16,
   "metadata": {},
   "outputs": [
    {
     "data": {
      "text/plain": [
       "'<Expression u[t1, x + 1, y + 1] = u[t0, x + 1, y + 1] + 1>'"
      ]
     },
     "execution_count": 16,
     "metadata": {},
     "output_type": "execute_result"
=======
   "execution_count": 70,
   "metadata": {},
   "outputs": [
    {
     "name": "stdout",
     "output_type": "stream",
     "text": [
      "<Expression u[t1, x + 1, y + 1] = u[t0, x + 1, y + 1] + 1>\n"
     ]
>>>>>>> origin/master
    }
   ],
   "source": [
    "from devito.ir.iet import Expression, FindNodes\n",
    "exprs = FindNodes(Expression).visit(op)\n",
<<<<<<< HEAD
    "exprs[0].view"
=======
    "print(exprs[0].view)"
>>>>>>> origin/master
   ]
  }
 ],
 "metadata": {
  "kernelspec": {
   "display_name": "Python 3",
   "language": "python",
   "name": "python3"
  },
  "language_info": {
   "codemirror_mode": {
    "name": "ipython",
    "version": 3
   },
   "file_extension": ".py",
   "mimetype": "text/x-python",
   "name": "python",
   "nbconvert_exporter": "python",
   "pygments_lexer": "ipython3",
   "version": "3.6.8"
  }
 },
 "nbformat": 4,
 "nbformat_minor": 2
}
